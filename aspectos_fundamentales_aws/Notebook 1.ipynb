{
 "cells": [
  {
   "cell_type": "code",
   "execution_count": null,
   "id": "8fb1015a",
   "metadata": {},
   "outputs": [],
   "source": [
    "# 5 pilares de AWS\n",
    "# conceptos fundamentales que se aplican en cualquier proceso"
   ]
  },
  {
   "cell_type": "code",
   "execution_count": null,
   "id": "f60ea6cb",
   "metadata": {},
   "outputs": [],
   "source": [
    "# Los 5 pilares de AWS: Marco de Buena Arquitectura de AWS\n",
    "\n",
    "# seguridad\n",
    "# eficiencia del rendimiento\n",
    "# fiabilidad\n",
    "# excelencia operativa\n",
    "# optimizacion de costos"
   ]
  },
  {
   "cell_type": "code",
   "execution_count": null,
   "id": "94339eb8",
   "metadata": {},
   "outputs": [],
   "source": []
  },
  {
   "cell_type": "code",
   "execution_count": null,
   "id": "e033df4c",
   "metadata": {},
   "outputs": [],
   "source": [
    "# Seguridad: como asegurar la infraestructura en la nube\n",
    "\n",
    "# la seguridad en la nube incluye: la infraestructura fisica, el software y las capacidades de red de los servicios en la nube\n",
    "# el responsable de la seguridad en la nube es el usuario\n",
    "# la seguridad adopta el modelo 'zero trust': todos los componentes y servicios son discretos y potencialmente maliciosos\n",
    "\n",
    "# 3 conceptos importantes para asegurar los sistemas con 'zero trust' en la nube\n",
    "# Identity and Access Management (IAM)\n",
    "# Seguridad de la red\n",
    "# Cifrado de datos"
   ]
  },
  {
   "cell_type": "code",
   "execution_count": null,
   "id": "f578b923",
   "metadata": {},
   "outputs": [],
   "source": [
    "# Identity and Access Management (IAM)\n",
    "# IAM hace el seguimiento de identidades y accesos en un sistema\n",
    "# las politicas IAM consisten en PRINCIPIOS, ACCIONES Y RECURSOS\n",
    "# el acceso se administra mediante politicas de IAM que aplican los limites de acceso para\n",
    "# los agentes dentro de AWS\n",
    "\n",
    "# PRINCIPIOS: especifican a QUIENES se les otorgan los permisos\n",
    "# ACCIONES: especifican QUE es lo que se debe realizar\n",
    "# RECURSOS: especifican CUALES son las propiedades que se tienen que acceder\n",
    "\n",
    "# el modelo 'zero trust' adopta el principio de minimo privilegio\n",
    "# cada agente solo tiene permisos minimos necesarios para cumplir su funcion\n",
    "\n",
    "# politicas asociadas a un principio, politicas basadas en identidades\n",
    "# politicas asociadas a un recurso, politicas basadas en recursos\n",
    "\n",
    "# si un principio tiene PERMISO o no con el fin de realizar una ACCION para un RECURSO,\n",
    "# depende de si su POLITICA BASADA EN RECURSOS no le prohibe llevarla a cabo"
   ]
  },
  {
   "cell_type": "code",
   "execution_count": null,
   "id": "d626d00a",
   "metadata": {},
   "outputs": [],
   "source": [
    "# Seguridad de la Red\n",
    "# Es cualquier sistema que asegure el acceso, la capacidad de uso y los recursos accesibles de la red\n",
    "# VPC y WAF aplican medidas de seguridad a nivel de la red\n",
    "# los grupos de seguridad aplican medidas de seguridad a nivel de recursos\n",
    "\n",
    "# el modelo 'zero trust' implica un enfoque de defensa en profundidad que aplica controles de seguridad en todas las capas de red \n",
    "\n",
    "# Amazon Virtual Private Cloud VPC permite definir y aprovisionar recursos\n",
    "# estos son los componentes de la VPC (a nivel de red):\n",
    "# subredes: direcciones IP dentro de su VPC\n",
    "# tablas de enrutamiento: reglas que determinan hacia donde va el tráfico\n",
    "# gateway de internet: permite la comunicación entre los recursos dentro de su VPC y internet\n",
    "\n",
    "# el servicio proxy como balanceador de carga de apliaciones que permite manejar el trafico \n",
    "# conectado a inernet se usa para reducir la superficie expuesta a ataques\n",
    "# los servicios internos como servidores y bases de datos, se pueden aprovicionar en subredes internas aisladas del acceso publico\n",
    "# AWS Web Application Firewall WAF  permite restringir aun más el tráfico en la red\n",
    "\n",
    "\n",
    "# los grupos de seguridad son firewalls virtuales que se pueden utilizar para controlar el trafico que entra y sale de un recurso\n",
    "# los grupos de seguridad permiten la seguridad a nivel de los recuros\n",
    "# se utilizan grupos de seguridad para permitir el trafico de feuntes confiables y puertos especificos hacia su instancia\n",
    "# se puede adjuntar grupos de seguridad a recursos como instancias EC2, RDS, Lambda"
   ]
  },
  {
   "cell_type": "code",
   "execution_count": null,
   "id": "769918db",
   "metadata": {},
   "outputs": [],
   "source": [
    "# Cifrado de datos\n",
    "# proceso de codificar la información para que no pueda ser leida por cualquier tercero que no tenga la clave\n",
    "# el modelo 'zero trust' implica cifrar datos, tanto en transito como en reposo\n",
    "# todos los servicios de almacenamiento y bases de datos en AWS estan cifrados\n",
    "\n",
    "# Cifrado de datos en transito:\n",
    "# cifrado de datos en tránsito implica codificacion de datos mientras viajan entre sistemas\n",
    "# todos los servicios de almacenamiento y de bases de datos en AWS  tienen puntos de enlace de HTTPS que permiten el cifrado de datos en transito\n",
    "# el balanceador de carga de aplicaciones ALB permite aplicar una conexión a través de HTTPS hasta sus puntos enlace\n",
    "\n",
    "# Cifrado de datos en reposo:\n",
    "# el cifrado de datos enn reposo implica cifrar datso dentro de los sistemas\n",
    "# todos los servicios de almacenamiento y bases de datos de AWS permiten cifrado de datos en reposo.\n",
    "# NO hay cargo adicional por el cifrado de datos y gastos de rendimiento minimos\n",
    "\n",
    "# los servicios de almacenamiento y bases de datos se integran con KMS\n",
    "# Amazon Key Management Service KMS es un servicio central que permite crear claves administradas por el cliente\n"
   ]
  },
  {
   "cell_type": "code",
   "execution_count": null,
   "id": "0ce980b7",
   "metadata": {},
   "outputs": [],
   "source": []
  },
  {
   "cell_type": "code",
   "execution_count": null,
   "id": "5f982d32",
   "metadata": {},
   "outputs": [],
   "source": [
    "# Eficiencia del rendimiento: como ejecutar los servicios de manera eficiente y escalable en la nube\n",
    "# en la nube los servidores son ganado. \n",
    "# los servidores son recursos basicos que se pueden aprovisionar automáticamente en segundos\n",
    "# ningun servidor debe ser esencial o indispensable para la operación de un servicio\n",
    "# en el modelo de administración como 'ganado', el aprovisionamiento es barato y rapido\n",
    "# permite seleccionar el tipo de servidor que mejor se adapta a la carga de trabajo\n",
    "\n",
    "# el modelo de servidores como 'ganado' hace facil el escalado del servicio\n",
    "# cada servidor es intercambiable y facil de implementar, se puede escalar rapidamente agregando más servidores"
   ]
  },
  {
   "cell_type": "code",
   "execution_count": null,
   "id": "22c3416c",
   "metadata": {},
   "outputs": [],
   "source": [
    "# Selección: elegir el servicio con la carga de trabajo\n",
    "# AWS titene más de 175 servicios distribuidos en más de 24 categorías\n",
    "# la carga de trabajo requiere selección de alguna de \n",
    "# las 4 categorías principales de los servicios de AWS: informática, almacenamiento, bases de datos y red\n",
    "# informática: el servicio que procesa los datos\n",
    "# almacenamiento: almacenamiento estático de datos\n",
    "# bases de datos: almacenamiento organizado de datos\n",
    "# red: forma en la que se mueven los datos\n",
    "\n",
    "# se deben considerar 3 aspectos: tipo de servicio, grado de administración, configuración "
   ]
  },
  {
   "cell_type": "code",
   "execution_count": null,
   "id": "4db4ca0e",
   "metadata": {},
   "outputs": [],
   "source": [
    "# tipo de servicio:\n",
    "\n",
    "# informática: máquinas virtuales, en contenedores o sin servidor\n",
    "# máquinas virtuales: modelo mental familiar, pero es más costosa y requerir más mantenimiento\n",
    "# contenedores: permite división más fina de la carga de trabajo y puede escalar, pero incluye configuración adicional y complejidad de organización\n",
    "# sin servidor/serverless: elimina complejidades de administración y escalado, pero tiene limitaciones estrictas de sistemas, requiere adopción de nuevas cadenas de procesos\n",
    "\n",
    "# almacenamiento: almacenamiento de archivos, en bloque, de objetos o de archivado\n",
    "# almacenamiento en bloque: sirven para conservar datos de una sola instancia EC2, EBS\n",
    "# sistemas de archivos: sirven para dar acceso a multiples clientes a los mismos datos,  EFS\n",
    "# almacenamiento de objetos: sirven para grandes blobs de datos a los que los clientes necesitan acceder, S3 \n",
    "# almacenamiento de archivos: sirven para grandes cantidades de datos a los que se accede con poca frecuencia,  S3 Glacier\n",
    "\n",
    "# bases de datos: RDB bases de datos relacional, NoRB bases de datos no relacionales, solución de almacenamiento de datos, o solución de indexación y búsqueda de datos\n",
    "# bases de datos relacionales: permiten tener uniones y propiedades ACID, pero tienen limite superior en rendimiento y almacenamiento de datos (RDS y Aurora)\n",
    "# base de datos NO relacionales: esquemas más flexibles y se pueden escalar más que RDBs, pero no tienen uniones y capacidades ACID completas\n",
    "# soluciones de almacenamiento de datos: permiten análisis a gran escala en acceso rápido a grandes cantidades de datos estructurados\n",
    "# soluciones de indexación y búsqueda: buscar e indexar datos de varios origenes"
   ]
  },
  {
   "cell_type": "code",
   "execution_count": null,
   "id": "edca3ffb",
   "metadata": {},
   "outputs": [],
   "source": [
    "# Configuración: depende de los requerimentos de rendimiento \n",
    "\n",
    "# informática: buscar los requisitos informáticos y de memoria\n",
    "# maquinas virtuales: memoria y CPU se ven afectadas por el tamaño y la familia de instancias\n",
    "# contenedores: memoria y CPU se pueden configurar individualmente\n",
    "# serverless: solo se configura la memoria, valor de informática aumenta con cantidad de memoria disponible\n",
    "\n",
    "# almacenamiento: requisitos de latencia, rendimiento y IOPS\n",
    "# almacenamiento en bloque: \n",
    "# la latencia se afecta por la selección del tipo de volumen\n",
    "# el rendimiento es proporcional al tamaño de volumen para la mayoria de tipos de volumenes\n",
    "# la capacidad IOPS es proporcional al tamño de volumen para la mayoría de volumenes\n",
    "\n",
    "# sistemas de archivos: \n",
    "# los modos de rendimiento afectan la latencia y las IOPS\n",
    "# el rendimiento se afecta por la opción de capacidad de rendimiento aprovisionado\n",
    "\n",
    "# almacenamiento de objetos:\n",
    "# la latencia se afecta por la distancia al puntode enlace del bucket\n",
    "# el rendimiento se afecta por uso de rendimiento optimizado de las APIs\n",
    "# IOPS no es configurable\n",
    "\n",
    "\n",
    "# bases de datos: requisitos de recursos como CPU, memoria, almacenamiento\n",
    "# bases de datos relacionales (Maria-Aurora): capacidades de recursos dependen de eleccion de instancia EC2\n",
    "# bases de datos NO relacionales (DynamoDB): capacidades de recursos dependen de opciones de configuración como capacidad aprovisionada\n",
    "# soluciones de almacenamiento de datos (Redshift):  capacidades de recursos dependen de la elección de instancia EC2\n",
    "# soluciones indexadas (Elasticsearch Service): capacidades de recursos dependen de la elección de instancia EC2"
   ]
  }
 ],
 "metadata": {
  "kernelspec": {
   "display_name": "Python 3 (ipykernel)",
   "language": "python",
   "name": "python3"
  },
  "language_info": {
   "codemirror_mode": {
    "name": "ipython",
    "version": 3
   },
   "file_extension": ".py",
   "mimetype": "text/x-python",
   "name": "python",
   "nbconvert_exporter": "python",
   "pygments_lexer": "ipython3",
   "version": "3.8.10"
  }
 },
 "nbformat": 4,
 "nbformat_minor": 5
}
