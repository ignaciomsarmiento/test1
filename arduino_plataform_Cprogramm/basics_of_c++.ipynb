{
 "cells": [
  {
   "cell_type": "code",
   "execution_count": null,
   "id": "bed0e223",
   "metadata": {},
   "outputs": [],
   "source": [
    "#include <iostream>\n",
    "\n",
    "using namespace std;\n",
    "\n",
    "int main()\n",
    "{\n",
    "  cout<<\"HEY, you, I'm alive! Oh, and Hello World!\\n\";\n",
    "  cin.get();\n",
    "}"
   ]
  }
 ],
 "metadata": {
  "kernelspec": {
   "display_name": "Python 3.9.7 64-bit",
   "language": "python",
   "name": "python3"
  },
  "language_info": {
   "codemirror_mode": {
    "name": "ipython",
    "version": 3
   },
   "file_extension": ".py",
   "mimetype": "text/x-python",
   "name": "python",
   "nbconvert_exporter": "python",
   "pygments_lexer": "ipython3",
   "version": "3.9.7"
  },
  "vscode": {
   "interpreter": {
    "hash": "a8712b7f88d470a3450a2747036c2653d8e7da53ae1b559f2a80ca921b7ec002"
   }
  }
 },
 "nbformat": 4,
 "nbformat_minor": 5
}
