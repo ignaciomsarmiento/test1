{
 "cells": [
  {
   "cell_type": "code",
   "execution_count": null,
   "id": "57c5f55a",
   "metadata": {},
   "outputs": [],
   "source": [
    "# Inteligencia Artificial\n",
    "\n",
    "# dispositivo que puede percibir su entorno y tomar decisiones\n",
    "# dar a las maquinas habilidad de escanear su entorno\n",
    "# dar informacion del mundo real\n",
    "# hacer minica del comportamiento real de los humanos\n",
    "\n",
    "# knowledge engineering: entender relaciones entre objetos y efectos\n",
    "# knowledge + programas software + decisiones\n",
    "# transferir la expercicia humana a un programa de software"
   ]
  },
  {
   "cell_type": "code",
   "execution_count": null,
   "id": "793597b2",
   "metadata": {},
   "outputs": [],
   "source": [
    "# Machine Learning:\n",
    "# usa database para realizar modelos\n",
    "# procesa datos a través de patrones y algoritmos\n",
    "# genera predicciones sobre el modelo generado\n",
    "\n",
    "# hacer predicciones, optimizar funciones de utilizada, extraer estructuras de datos, clasificar data"
   ]
  },
  {
   "cell_type": "code",
   "execution_count": null,
   "id": "3d84d2cc",
   "metadata": {},
   "outputs": [],
   "source": [
    "# Deep Learning:\n",
    "# va más allá y permite que el software(maquina) defina las features que necesita, dado un dataset\n",
    "# DL infiere las features que necesita para armar los modelos\n",
    "# reconoce autónomamente las features que necesita y aplica en sus modelos de prediccion"
   ]
  },
  {
   "cell_type": "code",
   "execution_count": null,
   "id": "81ba8344",
   "metadata": {},
   "outputs": [],
   "source": [
    "# Establecer estrategia de IA:\n",
    "# ambientes de computo rápido, data de multiples fuentes, algoritmos de aprendizaje avanzados\n",
    "# más data es mejor analíticas, mejores productos genera más usuarios\n",
    "# "
   ]
  }
 ],
 "metadata": {
  "kernelspec": {
   "display_name": "Python 3 (ipykernel)",
   "language": "python",
   "name": "python3"
  },
  "language_info": {
   "codemirror_mode": {
    "name": "ipython",
    "version": 3
   },
   "file_extension": ".py",
   "mimetype": "text/x-python",
   "name": "python",
   "nbconvert_exporter": "python",
   "pygments_lexer": "ipython3",
   "version": "3.8.10"
  }
 },
 "nbformat": 4,
 "nbformat_minor": 5
}
